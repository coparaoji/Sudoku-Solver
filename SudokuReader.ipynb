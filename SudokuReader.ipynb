{
 "cells": [
  {
   "cell_type": "code",
   "execution_count": 1,
   "metadata": {},
   "outputs": [],
   "source": [
    "import cv2\n",
    "import numpy as np\n",
    "import helpers\n",
    "import sudoku\n",
    "\n",
    "def showImage(img,title='Resized Window'):\n",
    "\n",
    "    #define the screen resulation\n",
    "    screen_res = 1280, 720\n",
    "    scale_width = screen_res[0] / img.shape[1]\n",
    "    scale_height = screen_res[1] / img.shape[0]\n",
    "    scale = min(scale_width, scale_height)\n",
    "\n",
    "    #resized window width and height\n",
    "    window_width = int(img.shape[1] * scale)\n",
    "    window_height = int(img.shape[0] * scale)\n",
    "\n",
    "    #cv2.WINDOW_NORMAL makes the output window resizealbe\n",
    "    cv2.namedWindow(title, cv2.WINDOW_NORMAL)\n",
    "\n",
    "    #resize the window according to the screen resolution\n",
    "    cv2.resizeWindow(title, window_width, window_height)\n",
    "\n",
    "    cv2.imshow(title, img)\n",
    "    cv2.waitKey(0)\n",
    "    cv2.destroyAllWindows()"
   ]
  },
  {
   "cell_type": "code",
   "execution_count": 2,
   "metadata": {},
   "outputs": [],
   "source": [
    "image = cv2.imread('puzz1.jpg',0)\n",
    "outerBox = np.ndarray(image.shape)"
   ]
  },
  {
   "cell_type": "code",
   "execution_count": 3,
   "metadata": {},
   "outputs": [],
   "source": [
    "image2 = sudoku.InputImage('test input', 'puzz1.jpg')\n",
    "board2 = image2.getBoard()\n",
    "board2.show()"
   ]
  },
  {
   "cell_type": "code",
   "execution_count": 4,
   "metadata": {},
   "outputs": [],
   "source": [
    "board2.boxes[79].show()"
   ]
  },
  {
   "cell_type": "markdown",
   "metadata": {},
   "source": [
    "<a href='https://www.tutorialkart.com/opencv/python/opencv-python-gaussian-image-smoothing/'>Gaussian Blur</a>"
   ]
  },
  {
   "cell_type": "code",
   "execution_count": 5,
   "metadata": {},
   "outputs": [],
   "source": [
    "image = cv2.GaussianBlur(image,(11,11),0)"
   ]
  },
  {
   "cell_type": "markdown",
   "metadata": {},
   "source": [
    "<a href=\"https://pyimagesearch.com/2021/05/12/adaptive-thresholding-with-opencv-cv2-adaptivethreshold/\">Adaptive Thresholding</a>"
   ]
  },
  {
   "cell_type": "code",
   "execution_count": 6,
   "metadata": {},
   "outputs": [],
   "source": [
    "outerBox = cv2.adaptiveThreshold(image,255,cv2.ADAPTIVE_THRESH_MEAN_C, cv2.THRESH_BINARY, 5, 2)"
   ]
  },
  {
   "cell_type": "code",
   "execution_count": 7,
   "metadata": {},
   "outputs": [
    {
     "data": {
      "text/plain": [
       "array([[0, 0, 0, ..., 0, 0, 0],\n",
       "       [0, 0, 0, ..., 0, 0, 0],\n",
       "       [0, 0, 0, ..., 0, 0, 0],\n",
       "       ...,\n",
       "       [0, 0, 0, ..., 0, 0, 0],\n",
       "       [0, 0, 0, ..., 0, 0, 0],\n",
       "       [0, 0, 0, ..., 0, 0, 0]], dtype=uint8)"
      ]
     },
     "execution_count": 7,
     "metadata": {},
     "output_type": "execute_result"
    }
   ],
   "source": [
    "cv2.adaptiveThreshold(image,255,cv2.ADAPTIVE_THRESH_MEAN_C, cv2.THRESH_BINARY, 5, 2)\n",
    "cv2.bitwise_not(outerBox)"
   ]
  },
  {
   "cell_type": "code",
   "execution_count": 8,
   "metadata": {},
   "outputs": [],
   "source": [
    "outerBox = cv2.bitwise_not(outerBox)"
   ]
  },
  {
   "cell_type": "markdown",
   "metadata": {},
   "source": [
    "<a href='https://docs.opencv.org/3.4/db/df6/tutorial_erosion_dilatation.html'>Dilation</a>"
   ]
  },
  {
   "cell_type": "code",
   "execution_count": 9,
   "metadata": {},
   "outputs": [],
   "source": [
    "outerBox = cv2.dilate(outerBox, cv2.getStructuringElement(cv2.MORPH_CROSS,(3,3)),iterations=4)"
   ]
  },
  {
   "cell_type": "code",
   "execution_count": 10,
   "metadata": {},
   "outputs": [],
   "source": [
    "contours, heirarchy = cv2.findContours(outerBox, cv2.RETR_EXTERNAL, cv2.CHAIN_APPROX_SIMPLE)"
   ]
  },
  {
   "cell_type": "code",
   "execution_count": 11,
   "metadata": {},
   "outputs": [],
   "source": [
    "from sklearn.cluster import KMeans\n",
    "\n",
    "kmeans = KMeans(n_clusters=4,random_state=0).fit(contours[0][:,0,:])"
   ]
  },
  {
   "cell_type": "code",
   "execution_count": 12,
   "metadata": {},
   "outputs": [],
   "source": [
    "grid_corners = kmeans.cluster_centers_\n",
    "image_corners_dict = {'topLeft':(0,0), 'topRight':(image.shape[1],0), 'bottomLeft':(0,image.shape[0]), 'bottomRight':(image.shape[1],image.shape[0])}\n",
    "grid_corners_dict = {r: grid_corners[np.argmin([np.linalg.norm(i-np.array(k)) for i in grid_corners])] for (r,k) in image_corners_dict.items()}"
   ]
  },
  {
   "cell_type": "code",
   "execution_count": 13,
   "metadata": {},
   "outputs": [
    {
     "data": {
      "text/plain": [
       "[(0, 0), (1125, 0), (0, 1167), (1125, 1167)]"
      ]
     },
     "execution_count": 13,
     "metadata": {},
     "output_type": "execute_result"
    }
   ],
   "source": [
    "list(image_corners_dict.values())"
   ]
  },
  {
   "cell_type": "code",
   "execution_count": 14,
   "metadata": {},
   "outputs": [],
   "source": [
    "x = int(min(image.shape[0],image.shape[1]) * 0.90)\n",
    "\n",
    "pts1 = np.float32(list(grid_corners_dict.values()))\n",
    "pts2 = np.float32([(0,0),(x,0),(0,x),(x,x)])\n",
    "pts3 = np.float32(list(image_corners_dict.values())) * 0.90\n",
    "#list(image_corners_dict.values())"
   ]
  },
  {
   "cell_type": "code",
   "execution_count": 15,
   "metadata": {},
   "outputs": [],
   "source": [
    "matrix = cv2.getPerspectiveTransform(pts1, pts2)\n",
    "newImage = cv2.warpPerspective(outerBox, matrix, image.shape)"
   ]
  },
  {
   "cell_type": "code",
   "execution_count": 16,
   "metadata": {},
   "outputs": [],
   "source": [
    "showImage(newImage)"
   ]
  },
  {
   "cell_type": "code",
   "execution_count": 17,
   "metadata": {},
   "outputs": [],
   "source": [
    "newImage = newImage[0:x,0:x]"
   ]
  },
  {
   "cell_type": "code",
   "execution_count": 18,
   "metadata": {},
   "outputs": [],
   "source": [
    "boxes = board2.boxes.copy()"
   ]
  },
  {
   "cell_type": "code",
   "execution_count": 19,
   "metadata": {},
   "outputs": [],
   "source": [
    "import os\n",
    "\n",
    "from tensorflow import keras\n",
    "\n",
    "#print(tf.version.VERSION)"
   ]
  },
  {
   "cell_type": "code",
   "execution_count": 20,
   "metadata": {},
   "outputs": [],
   "source": [
    "\n",
    "new_model = sudoku.DigitRecognizer('digit_recognizer')\n",
    "x = boxes[0].cv_image\n",
    "showImage(new_model.preprocess(x))"
   ]
  },
  {
   "cell_type": "code",
   "execution_count": 47,
   "metadata": {},
   "outputs": [],
   "source": [
    "model = keras.models.load_model('digit_recognizer')"
   ]
  },
  {
   "cell_type": "code",
   "execution_count": 51,
   "metadata": {},
   "outputs": [
    {
     "name": "stdout",
     "output_type": "stream",
     "text": [
      "[[0.000000e+00 0.000000e+00 0.000000e+00 1.000000e+00 2.297281e-37\n",
      "  0.000000e+00 0.000000e+00 0.000000e+00 0.000000e+00 7.070188e-37]]\n",
      "[3] 1\n"
     ]
    }
   ],
   "source": [
    "\n",
    "test = boxes[76].cv_image\n",
    "test = new_model.preprocess(test)\n",
    "test = cv2.resize(test,(32,32),interpolation=cv2.INTER_AREA)\n",
    "ret,test = cv2.threshold(test,240,255,cv2.THRESH_BINARY_INV)\n",
    "showImage(test)\n",
    "test = test.reshape((-1,32,32,1))\n",
    "\n",
    "results = model.predict(test)\n",
    "print(results)\n",
    "print(np.argmax(results,axis = 1),int(np.max(results)))\n"
   ]
  },
  {
   "cell_type": "code",
   "execution_count": 40,
   "metadata": {},
   "outputs": [
    {
     "ename": "error",
     "evalue": "OpenCV(4.5.5) :-1: error: (-5:Bad argument) in function 'resize'\n> Overload resolution failed:\n>  - src is not a numpy array, neither a scalar\n>  - Expected Ptr<cv::UMat> for argument 'src'\n",
     "output_type": "error",
     "traceback": [
      "\u001b[0;31m---------------------------------------------------------------------------\u001b[0m",
      "\u001b[0;31merror\u001b[0m                                     Traceback (most recent call last)",
      "\u001b[0;32m<ipython-input-40-64225459c7d7>\u001b[0m in \u001b[0;36m<module>\u001b[0;34m\u001b[0m\n\u001b[1;32m      1\u001b[0m \u001b[0mtest\u001b[0m \u001b[0;34m=\u001b[0m \u001b[0mboxes\u001b[0m\u001b[0;34m[\u001b[0m\u001b[0;36m4\u001b[0m\u001b[0;34m]\u001b[0m\u001b[0;34m\u001b[0m\u001b[0;34m\u001b[0m\u001b[0m\n\u001b[0;32m----> 2\u001b[0;31m \u001b[0mtest\u001b[0m \u001b[0;34m=\u001b[0m \u001b[0mcv2\u001b[0m\u001b[0;34m.\u001b[0m\u001b[0mresize\u001b[0m\u001b[0;34m(\u001b[0m\u001b[0mtest\u001b[0m\u001b[0;34m,\u001b[0m\u001b[0;34m(\u001b[0m\u001b[0;36m32\u001b[0m\u001b[0;34m,\u001b[0m\u001b[0;36m32\u001b[0m\u001b[0;34m)\u001b[0m\u001b[0;34m,\u001b[0m\u001b[0minterpolation\u001b[0m\u001b[0;34m=\u001b[0m\u001b[0mcv2\u001b[0m\u001b[0;34m.\u001b[0m\u001b[0mINTER_AREA\u001b[0m\u001b[0;34m)\u001b[0m\u001b[0;34m\u001b[0m\u001b[0;34m\u001b[0m\u001b[0m\n\u001b[0m\u001b[1;32m      3\u001b[0m \u001b[0;34m\u001b[0m\u001b[0m\n\u001b[1;32m      4\u001b[0m \u001b[0mshowImage\u001b[0m\u001b[0;34m(\u001b[0m\u001b[0mtest\u001b[0m\u001b[0;34m)\u001b[0m\u001b[0;34m\u001b[0m\u001b[0;34m\u001b[0m\u001b[0m\n\u001b[1;32m      5\u001b[0m \u001b[0mtest\u001b[0m \u001b[0;34m=\u001b[0m \u001b[0mtest\u001b[0m\u001b[0;34m.\u001b[0m\u001b[0mreshape\u001b[0m\u001b[0;34m(\u001b[0m\u001b[0;34m(\u001b[0m\u001b[0;34m-\u001b[0m\u001b[0;36m1\u001b[0m\u001b[0;34m,\u001b[0m\u001b[0;36m32\u001b[0m\u001b[0;34m,\u001b[0m\u001b[0;36m32\u001b[0m\u001b[0;34m,\u001b[0m\u001b[0;36m1\u001b[0m\u001b[0;34m)\u001b[0m\u001b[0;34m)\u001b[0m\u001b[0;34m\u001b[0m\u001b[0;34m\u001b[0m\u001b[0m\n",
      "\u001b[0;31merror\u001b[0m: OpenCV(4.5.5) :-1: error: (-5:Bad argument) in function 'resize'\n> Overload resolution failed:\n>  - src is not a numpy array, neither a scalar\n>  - Expected Ptr<cv::UMat> for argument 'src'\n"
     ]
    }
   ],
   "source": [
    "test = boxes[4]\n",
    "test = cv2.resize(test,(32,32),interpolation=cv2.INTER_AREA)\n",
    "\n",
    "showImage(test)\n",
    "test = test.reshape((-1,32,32,1))\n",
    "results = new_model.model.predict(test)\n",
    "print(results)\n",
    "print(np.argmax(results,axis = 1),int(np.max(results)))"
   ]
  },
  {
   "cell_type": "code",
   "execution_count": null,
   "metadata": {},
   "outputs": [],
   "source": [
    "test= cv2.dilate(test, cv2.getStructuringElement(cv2.MORPH_CROSS,(3,3)),iterations=3)\n",
    "test = cv2.bilateralFilter(test,4,75,75)\n",
    "test = cv2.resize(test,(32,32),interpolation=cv2.INTER_AREA)\n",
    "test = cv2.bitwise_not(test)"
   ]
  },
  {
   "cell_type": "code",
   "execution_count": 84,
   "metadata": {},
   "outputs": [
    {
     "name": "stdout",
     "output_type": "stream",
     "text": [
      "[9] 1.0\n",
      "[2] 1.0\n",
      "[2] 0.79571104\n",
      "[2] 0.7891244\n",
      "[3] 0.9918208\n",
      "[2] 0.94732153\n",
      "[3] 1.0\n",
      "[2] 0.9995128\n",
      "[2] 0.9989851\n",
      "[8] 1.0\n",
      "[5] 1.0\n",
      "[8] 0.89203185\n",
      "[8] 0.73443794\n",
      "[9] 1.0\n",
      "[8] 0.9383874\n",
      "[8] 0.97968984\n",
      "[2] 1.0\n",
      "[8] 0.9502507\n",
      "[6] 0.99999535\n",
      "[8] 0.7601064\n",
      "[3] 1.0\n",
      "[8] 0.9967078\n",
      "[8] 0.9999789\n",
      "[8] 0.9999317\n",
      "[8] 0.99991786\n",
      "[8] 0.99926275\n",
      "[8] 0.999741\n",
      "[6] 0.99999964\n",
      "[6] 0.98486876\n",
      "[8] 0.9728976\n",
      "[6] 0.58393675\n",
      "[8] 0.9990087\n",
      "[2] 1.0\n",
      "[8] 0.9996209\n",
      "[8] 0.9973156\n",
      "[8] 0.99878615\n",
      "[3] 1.0\n",
      "[8] 0.9683564\n",
      "[8] 0.99994993\n",
      "[8] 0.99858284\n",
      "[8] 0.9999862\n",
      "[8] 0.96292126\n",
      "[6] 1.0\n",
      "[8] 0.9997408\n",
      "[8] 0.99993813\n",
      "[2] 1.0\n",
      "[9] 1.0\n",
      "[2] 1.0\n",
      "[8] 0.999997\n",
      "[8] 0.9999999\n",
      "[8] 0.99999607\n",
      "[2] 1.0\n",
      "[5] 1.0\n",
      "[8] 0.9991406\n",
      "[6] 0.9174445\n",
      "[8] 0.9999579\n",
      "[8] 0.9999999\n",
      "[5] 1.0\n",
      "[8] 1.0\n",
      "[9] 1.0\n",
      "[8] 0.99999964\n",
      "[6] 0.9998722\n",
      "[2] 1.0\n",
      "[8] 0.9810554\n",
      "[8] 1.0\n",
      "[5] 1.0\n",
      "[8] 0.9999999\n",
      "[2] 1.0\n",
      "[8] 1.0\n",
      "[4] 1.0\n",
      "[8] 0.9999995\n",
      "[8] 0.99999714\n",
      "[8] 0.9999939\n",
      "[8] 1.0\n",
      "[9] 0.99999166\n",
      "[2] 1.0\n",
      "[4] 1.0\n",
      "[8] 1.0\n",
      "[8] 1.0\n",
      "[3] 1.0\n",
      "[8] 0.9999987\n"
     ]
    }
   ],
   "source": [
    "for test in boxes:\n",
    "    test = cv2.resize(test,(32,32),interpolation=cv2.INTER_AREA)\n",
    "    test = test.reshape((-1,32,32,1))\n",
    "    results = new_model.predict(test)\n",
    "    print(np.argmax(results,axis = 1),np.max(results))\n"
   ]
  },
  {
   "cell_type": "code",
   "execution_count": 26,
   "metadata": {},
   "outputs": [],
   "source": [
    "test = test.reshape((-1,32,32,1))\n",
    "results = new_model.predict(test)\n",
    "results = np.argmax(results,axis = 1)\n",
    "#np.max(results)"
   ]
  },
  {
   "cell_type": "code",
   "execution_count": 47,
   "metadata": {},
   "outputs": [],
   "source": [
    "showImage(outerBox[50:850,50:850])"
   ]
  },
  {
   "cell_type": "code",
   "execution_count": 48,
   "metadata": {},
   "outputs": [],
   "source": [
    "showImage(image)"
   ]
  },
  {
   "cell_type": "code",
   "execution_count": 28,
   "metadata": {},
   "outputs": [
    {
     "data": {
      "text/plain": [
       "array([8])"
      ]
     },
     "execution_count": 28,
     "metadata": {},
     "output_type": "execute_result"
    }
   ],
   "source": [
    "results"
   ]
  },
  {
   "cell_type": "code",
   "execution_count": 49,
   "metadata": {},
   "outputs": [],
   "source": [
    "\n",
    "cirle = image.copy()\n",
    "# Radius of circle\n",
    "radius = 2\n",
    "  \n",
    "# Blue color in BGR\n",
    "color = (255, 0, 0)\n",
    "  \n",
    "# Line thickness of 2 px\n",
    "thickness = 2\n",
    "  \n",
    "# Using cv2.circle() method\n",
    "# Draw a circle with blue line borders of thickness of 2 px\n",
    "for c  in np.int32(list(grid_corners)):\n",
    "    circle = cv2.circle(image,c, radius, color, thickness)"
   ]
  },
  {
   "cell_type": "code",
   "execution_count": 50,
   "metadata": {},
   "outputs": [],
   "source": [
    "showImage(circle)"
   ]
  },
  {
   "cell_type": "code",
   "execution_count": null,
   "metadata": {},
   "outputs": [],
   "source": [
    "#need to make and test out new model\n",
    "#prep data\n",
    "'''\n",
    "Use this to import data https://www.tensorflow.org/guide/data#consuming_sets_of_files\n",
    "Use this to apply your preprossing steps https://www.tensorflow.org/guide/data#applying_arbitrary_python_logic\n",
    "Use this to see how to use it with a model https://www.tensorflow.org/guide/data#applying_arbitrary_python_logic\n",
    "'''\n"
   ]
  },
  {
   "cell_type": "code",
   "execution_count": 6,
   "metadata": {},
   "outputs": [
    {
     "name": "stdout",
     "output_type": "stream",
     "text": [
      "b'Dataset/training_data/5/59853.png'\n",
      "b'Dataset/training_data/9/50209.png'\n",
      "b'Dataset/training_data/3/59527.png'\n",
      "b'Dataset/training_data/9/59389.png'\n",
      "b'Dataset/training_data/3/57295.png'\n"
     ]
    }
   ],
   "source": [
    "import tensorflow as tf\n",
    "import tensorflow.data as tfd\n",
    "\n",
    "list_ds = tfd.Dataset.list_files(str('Dataset/training_data/*/*'))\n",
    "\n",
    "for f in list_ds.take(5):\n",
    "  print(f.numpy())"
   ]
  },
  {
   "cell_type": "code",
   "execution_count": 8,
   "metadata": {},
   "outputs": [],
   "source": [
    "def process_path(file_path):\n",
    "  label = tf.strings.split(file_path, os.sep)[-2]\n",
    "  return tf.io.read_file(file_path), label\n",
    "\n",
    "labeled_ds = list_ds.map(process_path)"
   ]
  },
  {
   "cell_type": "code",
   "execution_count": 9,
   "metadata": {},
   "outputs": [
    {
     "name": "stdout",
     "output_type": "stream",
     "text": [
      "b'\\x89PNG\\r\\n\\x1a\\n\\x00\\x00\\x00\\rIHDR\\x00\\x00\\x00\\x18\\x00\\x00\\x00\"\\x08\\x00\\x00\\x00\\x00`\\xfdF\\xef\\x00\\x00\\x02vIDATx\\x9c\\x05\\xc1[OcU\\x14\\x00\\xe0u\\xdb\\xe7\\xd2\\xd3\\x16(\\x97\\x82\\x04lPgHf&\\xfa2/\\xc6\\xff\\x1f\\x13\\x9f41\\x11\\x94\\x89\\t\\x8c\\x03\\x94\\x96\\x81\\x9e\\x9e\\xdb\\xdek-\\xbf\\x0f\\xaf\\x00\\xb0\\x03O'\n",
      "\n",
      "b'5'\n"
     ]
    }
   ],
   "source": [
    "for image_raw, label_text in labeled_ds.take(1):\n",
    "  print(repr(image_raw.numpy()[:100]))\n",
    "  print()\n",
    "  print(label_text.numpy())"
   ]
  },
  {
   "cell_type": "code",
   "execution_count": 13,
   "metadata": {},
   "outputs": [],
   "source": [
    "# Reads an image from a file, decodes it into a dense tensor, and resizes it\n",
    "# to a fixed shape.\n",
    "def parse_image(filename):\n",
    "  parts = tf.strings.split(filename, os.sep)\n",
    "  label = parts[-2]\n",
    "\n",
    "  image = tf.io.read_file(filename)\n",
    "  image = tf.io.decode_png(image)\n",
    "  image = tf.image.convert_image_dtype(image, tf.float32)\n",
    "  image = tf.image.resize(image, [128, 128])\n",
    "  return image, label"
   ]
  },
  {
   "cell_type": "code",
   "execution_count": 15,
   "metadata": {},
   "outputs": [
    {
     "data": {
      "image/png": "[encoded data removed]",
      "text/plain": [
       "<Figure size 432x288 with 1 Axes>"
      ]
     },
     "metadata": {
      "needs_background": "light"
     },
     "output_type": "display_data"
    }
   ],
   "source": [
    "import matplotlib.pyplot as plt\n",
    "\n",
    "file_path = next(iter(list_ds))\n",
    "image, label = parse_image(file_path)\n",
    "\n",
    "def show(image, label):\n",
    "  plt.figure()\n",
    "  plt.imshow(image, cmap='Greys_r')\n",
    "  plt.title(label.numpy().decode('utf-8'))\n",
    "  plt.axis('off')\n",
    "\n",
    "show(image, label)\n"
   ]
  },
  {
   "cell_type": "code",
   "execution_count": 17,
   "metadata": {},
   "outputs": [
    {
     "data": {
      "image/png": "[encoded data removed]",
      "text/plain": [
       "<Figure size 432x288 with 1 Axes>"
      ]
     },
     "metadata": {
      "needs_background": "light"
     },
     "output_type": "display_data"
    },
    {
     "data": {
      "image/png": "[encoded data removed]",
      "text/plain": [
       "<Figure size 432x288 with 1 Axes>"
      ]
     },
     "metadata": {
      "needs_background": "light"
     },
     "output_type": "display_data"
    }
   ],
   "source": [
    "images_ds = list_ds.map(parse_image)\n",
    "\n",
    "for image, label in images_ds.take(2):\n",
    "  show(image, label)"
   ]
  },
  {
   "cell_type": "code",
   "execution_count": null,
   "metadata": {},
   "outputs": [],
   "source": [
    "#next I should apply my own functions to preprocess"
   ]
  }
 ],
 "metadata": {
  "interpreter": {
   "hash": "916dbcbb3f70747c44a77c7bcd40155683ae19c65e1c03b4aa3499c5328201f1"
  },
  "kernelspec": {
   "display_name": "Python 3.8.10 64-bit",
   "language": "python",
   "name": "python3"
  },
  "language_info": {
   "codemirror_mode": {
    "name": "ipython",
    "version": 3
   },
   "file_extension": ".py",
   "mimetype": "text/x-python",
   "name": "python",
   "nbconvert_exporter": "python",
   "pygments_lexer": "ipython3",
   "version": "3.8.10"
  },
  "orig_nbformat": 4
 },
 "nbformat": 4,
 "nbformat_minor": 2
}
