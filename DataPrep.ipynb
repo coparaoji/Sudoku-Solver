{
 "cells": [
  {
   "cell_type": "code",
   "execution_count": 4,
   "metadata": {},
   "outputs": [],
   "source": [
    "def showImage(img,title='Resized Window'):\n",
    "\n",
    "    #define the screen resulation\n",
    "    screen_res = 1280, 720\n",
    "    scale_width = screen_res[0] / img.shape[1]\n",
    "    scale_height = screen_res[1] / img.shape[0]\n",
    "    scale = min(scale_width, scale_height)\n",
    "\n",
    "    #resized window width and height\n",
    "    window_width = int(img.shape[1] * scale)\n",
    "    window_height = int(img.shape[0] * scale)\n",
    "\n",
    "    #cv.WINDOW_NORMAL makes the output window resizealbe\n",
    "    cv.namedWindow(title, cv.WINDOW_NORMAL)\n",
    "\n",
    "    #resize the window according to the screen resolution\n",
    "    cv.resizeWindow(title, window_width, window_height)\n",
    "\n",
    "    cv.imshow(title, img)\n",
    "    cv.waitKey(0)\n",
    "    cv.destroyAllWindows()"
   ]
  },
  {
   "cell_type": "code",
   "execution_count": 1,
   "metadata": {},
   "outputs": [],
   "source": [
    "#I need a train and test split of my data"
   ]
  },
  {
   "cell_type": "code",
   "execution_count": 2,
   "metadata": {},
   "outputs": [],
   "source": [
    "#I need a method that takes the folders and gives me labels and input for the model"
   ]
  },
  {
   "cell_type": "code",
   "execution_count": 3,
   "metadata": {},
   "outputs": [],
   "source": [
    "#Preferably I'd like it to also handle the preprocessing so that the onlyy thing that needs to be worried about is the model architecture"
   ]
  },
  {
   "cell_type": "code",
   "execution_count": 93,
   "metadata": {},
   "outputs": [],
   "source": [
    "#methods\n",
    "#open image in opencv//done\n",
    "#apply thresholding to image and resize//done\n",
    "# and save the image in a new folder\n",
    "#return an array of all the images for a given number and purpose (test or train)\n",
    "import cv2 as cv\n",
    "import os\n",
    "import numpy as np\n",
    "\n",
    "def open_image(path):\n",
    "    x = cv.imread(path,0)\n",
    "    if (x is None):\n",
    "        raise Exception(\"File not found\")\n",
    "    return x\n",
    "\n",
    "def preprocess(image):\n",
    "    if(np.max(image)<100):\n",
    "        image = image*255\n",
    "    image =  cv.resize(image, (32,32), interpolation=cv.INTER_AREA)\n",
    "    image =  cv.adaptiveThreshold(image,255,cv.ADAPTIVE_THRESH_MEAN_C, cv.THRESH_BINARY,15,10)\n",
    "    image = image/255\n",
    "\n",
    "    return image\n",
    "\n",
    "\n",
    "class ImageRetriever:\n",
    "    id = \"\" #file name\n",
    "    label = \"\" #0-9\n",
    "    purpose = \"\" #training_data or testing_data\n",
    "    raw_image = None\n",
    "\n",
    "    def __init__(self, path)-> None:\n",
    "        self.raw_image = preprocess(open_image(path))\n",
    "        self.id = path.split('/')[-1].split('.')[0]\n",
    "        self.label = path.split('/')[-2]\n",
    "        self.purpose = path.split('/')[1]\n",
    "\n",
    "    def get(self, path):\n",
    "        self.raw_image = preprocess(open_image(path))\n",
    "        self.id = path.split('/')[-1].split('.')[0]\n",
    "        self.label = path.split('/')[-2]\n",
    "        self.purpose = path.split('/')[1]\n",
    "    "
   ]
  },
  {
   "cell_type": "code",
   "execution_count": 96,
   "metadata": {},
   "outputs": [],
   "source": [
    "x = ImageRetriever('Dataset/training_data/4/44516.png')\n",
    "y = x.get('Dataset/training_data/4/44516.png')\n",
    "\n",
    "\n",
    "showImage(x.raw_image)"
   ]
  },
  {
   "cell_type": "code",
   "execution_count": 74,
   "metadata": {},
   "outputs": [
    {
     "data": {
      "text/plain": [
       "'training_data'"
      ]
     },
     "execution_count": 74,
     "metadata": {},
     "output_type": "execute_result"
    }
   ],
   "source": [
    "y = \"Dataset/training_data/8/44952.png\"\n",
    "y.split('/')[1]"
   ]
  },
  {
   "cell_type": "code",
   "execution_count": null,
   "metadata": {},
   "outputs": [],
   "source": []
  }
 ],
 "metadata": {
  "interpreter": {
   "hash": "2be5faf79681da6f2a61fdfdd5405d65d042280f7fba6178067603e3a2925119"
  },
  "kernelspec": {
   "display_name": "Python 3.10.2 64-bit",
   "language": "python",
   "name": "python3"
  },
  "language_info": {
   "codemirror_mode": {
    "name": "ipython",
    "version": 3
   },
   "file_extension": ".py",
   "mimetype": "text/x-python",
   "name": "python",
   "nbconvert_exporter": "python",
   "pygments_lexer": "ipython3",
   "version": "3.10.2"
  },
  "orig_nbformat": 4
 },
 "nbformat": 4,
 "nbformat_minor": 2
}
