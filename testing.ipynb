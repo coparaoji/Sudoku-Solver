{
 "cells": [
  {
   "cell_type": "code",
   "execution_count": null,
   "metadata": {},
   "outputs": [],
   "source": [
    "import cv2 as cv\n",
    "import numpy as np\n",
    "def showImage(img,title='Resized Window'):\n",
    "\n",
    "    #define the screen resulation\n",
    "    screen_res = 1280, 720\n",
    "    scale_width = screen_res[0] / img.shape[1]\n",
    "    scale_height = screen_res[1] / img.shape[0]\n",
    "    scale = min(scale_width, scale_height)\n",
    "\n",
    "    #resized window width and height\n",
    "    window_width = int(img.shape[1] * scale)\n",
    "    window_height = int(img.shape[0] * scale)\n",
    "\n",
    "    #cv.WINDOW_NORMAL makes the output window resizealbe\n",
    "    cv.namedWindow(title, cv.WINDOW_NORMAL)\n",
    "\n",
    "    #resize the window according to the screen resolution\n",
    "    cv.resizeWindow(title, window_width, window_height)\n",
    "\n",
    "    cv.imshow(title, img)\n",
    "    cv.waitKey(0)\n",
    "    cv.destroyAllWindows()"
   ]
  },
  {
   "cell_type": "code",
   "execution_count": null,
   "metadata": {},
   "outputs": [],
   "source": []
  },
  {
   "cell_type": "code",
   "execution_count": null,
   "metadata": {},
   "outputs": [],
   "source": [
    "#load and train\n",
    "from tensorflow.keras.datasets import mnist\n",
    "from tensorflow.keras.models import load_model\n",
    "import tensorflow as tf\n",
    "from tensorflow.keras.utils import to_categorical\n",
    "\n",
    "(X_train, Y_train), (X_test, Y_test) = mnist.load_data()\n",
    "\n",
    "model = load_model('saved_model/my_model')\n",
    "\n",
    "# scale pixels\n",
    "def prep_pixels(train, test):\n",
    "\t# convert from integers to floats\n",
    "\ttrain_norm = train.astype('float32')\n",
    "\ttest_norm = test.astype('float32')\n",
    "\t# normalize to range 0-1\n",
    "\ttrain_norm = train_norm / 255.0\n",
    "\ttest_norm = test_norm / 255.0\n",
    "\t# return normalized images\n",
    "\treturn train_norm, test_norm\n",
    "\n",
    "showImage(np.array(X_train[0]))\n",
    "\n",
    "train_filter = np.where((Y_train != 0 ))\n",
    "test_filter = np.where((Y_test != 0))\n",
    "X_train, Y_train = X_train[train_filter], Y_train[train_filter]\n",
    "X_test, Y_test = X_test[test_filter], Y_test[test_filter]\n",
    "\n",
    "X_train = X_train.reshape((X_train.shape[0], 28, 28, 1))\n",
    "X_test = X_test.reshape((X_test.shape[0], 28, 28, 1))\n",
    "\n",
    "Y_train = to_categorical(Y_train-1,num_classes=9)\n",
    "Y_test = to_categorical(Y_test-1,num_classes=9)\n",
    "\n",
    "X_train,X_test = prep_pixels(X_train,X_test)\n",
    "\n",
    "history = model.fit(X_train,Y_train,batch_size=32,epochs=10)"
   ]
  },
  {
   "cell_type": "code",
   "execution_count": null,
   "metadata": {},
   "outputs": [],
   "source": [
    "import sudoku as reader\n",
    "import DataPrep as dr\n",
    "import tensorflow as tf\n",
    "\n",
    "path = \"puzz1.jpg\"\n",
    "\n",
    "sudoku = reader.readImage(path)\n",
    "\n",
    "recognizer = dr.get_model()\n",
    "\n",
    "board = sudoku.get_board(recognizer)\n",
    "print(board.grid)"
   ]
  }
 ],
 "metadata": {
  "language_info": {
   "name": "python"
  },
  "orig_nbformat": 4
 },
 "nbformat": 4,
 "nbformat_minor": 2
}
