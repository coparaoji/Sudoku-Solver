{
 "cells": [
  {
   "cell_type": "code",
   "execution_count": 1,
   "metadata": {},
   "outputs": [],
   "source": [
    "import cv2\n",
    "import numpy as np\n",
    "def showImage(img,title='Resized Window'):\n",
    "\n",
    "    #define the screen resulation\n",
    "    screen_res = 1280, 720\n",
    "    scale_width = screen_res[0] / img.shape[1]\n",
    "    scale_height = screen_res[1] / img.shape[0]\n",
    "    scale = min(scale_width, scale_height)\n",
    "\n",
    "    #resized window width and height\n",
    "    window_width = int(img.shape[1] * scale)\n",
    "    window_height = int(img.shape[0] * scale)\n",
    "\n",
    "    #cv2.WINDOW_NORMAL makes the output window resizealbe\n",
    "    cv2.namedWindow(title, cv2.WINDOW_NORMAL)\n",
    "\n",
    "    #resize the window according to the screen resolution\n",
    "    cv2.resizeWindow(title, window_width, window_height)\n",
    "\n",
    "    cv2.imshow(title, img)\n",
    "    cv2.waitKey(0)\n",
    "    cv2.destroyAllWindows()"
   ]
  },
  {
   "cell_type": "code",
   "execution_count": 1,
   "metadata": {},
   "outputs": [
    {
     "name": "stderr",
     "output_type": "stream",
     "text": [
      "/usr/lib/python3/dist-packages/requests/__init__.py:89: RequestsDependencyWarning: urllib3 (1.26.8) or chardet (3.0.4) doesn't match a supported version!\n",
      "  warnings.warn(\"urllib3 ({}) or chardet ({}) doesn't match a supported \"\n"
     ]
    },
    {
     "name": "stdout",
     "output_type": "stream",
     "text": [
      "row 0, col 0 value [9]\n",
      "row 0, col 1 value [2]\n",
      "row 0, col 2 value -1\n",
      "row 0, col 3 value -1\n",
      "row 0, col 4 value [1]\n",
      "row 0, col 5 value -1\n",
      "row 0, col 6 value [3]\n",
      "row 0, col 7 value -1\n",
      "row 0, col 8 value -1\n",
      "row 1, col 0 value [8]\n",
      "row 1, col 1 value [5]\n",
      "row 1, col 2 value -1\n",
      "row 1, col 3 value -1\n",
      "row 1, col 4 value [9]\n",
      "row 1, col 5 value -1\n",
      "row 1, col 6 value -1\n",
      "row 1, col 7 value [2]\n",
      "row 1, col 8 value -1\n",
      "row 2, col 0 value -1\n",
      "row 2, col 1 value -1\n",
      "row 2, col 2 value [3]\n",
      "row 2, col 3 value -1\n",
      "row 2, col 4 value -1\n",
      "row 2, col 5 value -1\n",
      "row 2, col 6 value -1\n",
      "row 2, col 7 value -1\n",
      "row 2, col 8 value -1\n",
      "row 3, col 0 value -1\n",
      "row 3, col 1 value -1\n",
      "row 3, col 2 value -1\n",
      "row 3, col 3 value -1\n",
      "row 3, col 4 value -1\n",
      "row 3, col 5 value [2]\n",
      "row 3, col 6 value -1\n",
      "row 3, col 7 value -1\n",
      "row 3, col 8 value -1\n",
      "row 4, col 0 value [3]\n",
      "row 4, col 1 value -1\n",
      "row 4, col 2 value -1\n",
      "row 4, col 3 value -1\n",
      "row 4, col 4 value -1\n",
      "row 4, col 5 value [1]\n",
      "row 4, col 6 value [6]\n",
      "row 4, col 7 value -1\n",
      "row 4, col 8 value -1\n",
      "row 5, col 0 value [1]\n",
      "row 5, col 1 value [1]\n",
      "row 5, col 2 value [7]\n",
      "row 5, col 3 value -1\n",
      "row 5, col 4 value -1\n",
      "row 5, col 5 value -1\n",
      "row 5, col 6 value [2]\n",
      "row 5, col 7 value [5]\n",
      "row 5, col 8 value -1\n",
      "row 6, col 0 value -1\n",
      "row 6, col 1 value -1\n",
      "row 6, col 2 value -1\n",
      "row 6, col 3 value [5]\n",
      "row 6, col 4 value -1\n",
      "row 6, col 5 value [9]\n",
      "row 6, col 6 value -1\n",
      "row 6, col 7 value [6]\n",
      "row 6, col 8 value [2]\n",
      "row 7, col 0 value -1\n",
      "row 7, col 1 value [8]\n",
      "row 7, col 2 value [5]\n",
      "row 7, col 3 value -1\n",
      "row 7, col 4 value -1\n",
      "row 7, col 5 value -1\n",
      "row 7, col 6 value [4]\n",
      "row 7, col 7 value -1\n",
      "row 7, col 8 value -1\n",
      "row 8, col 0 value -1\n",
      "row 8, col 1 value -1\n",
      "row 8, col 2 value [1]\n",
      "row 8, col 3 value -1\n",
      "row 8, col 4 value -1\n",
      "row 8, col 5 value -1\n",
      "row 8, col 6 value -1\n",
      "row 8, col 7 value [3]\n",
      "row 8, col 8 value -1\n"
     ]
    }
   ],
   "source": [
    "import sudoku\n",
    "import DataPrep\n",
    "import tensorflow as tf\n",
    "\n",
    "model = tf.keras.models.load_model('saved_model/my_model')\n",
    "#model = DataPrep.build_and_train_model()\n",
    "image = sudoku.InputImage('test','puzz1.jpg')\n",
    "board = image.getBoard()\n",
    "digit_recognizer = sudoku.DigitRecognizer(model)\n",
    "#print(len(board.boxes))\n",
    "for box in board.boxes:\n",
    "    digit_recognizer.predict(box)\n",
    "    print(f\"{box.title} value {box.value}\")"
   ]
  },
  {
   "cell_type": "code",
   "execution_count": 3,
   "metadata": {},
   "outputs": [],
   "source": [
    "image = sudoku.InputImage('test','puzz1.jpg')"
   ]
  },
  {
   "cell_type": "code",
   "execution_count": 4,
   "metadata": {},
   "outputs": [
    {
     "name": "stdout",
     "output_type": "stream",
     "text": [
      "81\n"
     ]
    }
   ],
   "source": [
    "#get board and boxes\n",
    "board = image.getBoard()\n",
    "print(len(board.boxes))"
   ]
  },
  {
   "cell_type": "code",
   "execution_count": 5,
   "metadata": {},
   "outputs": [
    {
     "name": "stdout",
     "output_type": "stream",
     "text": [
      "[1]\n"
     ]
    }
   ],
   "source": [
    "digit_recognizer = sudoku.DigitRecognizer(model)\n",
    "test = digit_recognizer.predict(board.boxes[46]) #change variable name to raw_image\n",
    "print(test)"
   ]
  },
  {
   "cell_type": "code",
   "execution_count": 13,
   "metadata": {},
   "outputs": [],
   "source": [
    "test = ((digit_recognizer.preprocess(board.boxes[46].cv_image)))\n",
    "showImage(test)"
   ]
  },
  {
   "cell_type": "code",
   "execution_count": 20,
   "metadata": {},
   "outputs": [],
   "source": [
    "contours, heirarchy = cv2.findContours(test, cv2.RETR_EXTERNAL, cv2.CHAIN_APPROX_SIMPLE)"
   ]
  },
  {
   "cell_type": "code",
   "execution_count": 33,
   "metadata": {},
   "outputs": [
    {
     "data": {
      "text/plain": [
       "array([[[14,  5]],\n",
       "\n",
       "       [[13,  6]],\n",
       "\n",
       "       [[12,  6]],\n",
       "\n",
       "       [[10,  8]],\n",
       "\n",
       "       [[10,  9]],\n",
       "\n",
       "       [[ 9, 10]],\n",
       "\n",
       "       [[ 9, 13]],\n",
       "\n",
       "       [[10, 14]],\n",
       "\n",
       "       [[10, 15]],\n",
       "\n",
       "       [[13, 18]],\n",
       "\n",
       "       [[18, 18]],\n",
       "\n",
       "       [[19, 17]],\n",
       "\n",
       "       [[20, 17]],\n",
       "\n",
       "       [[21, 18]],\n",
       "\n",
       "       [[20, 19]],\n",
       "\n",
       "       [[20, 20]],\n",
       "\n",
       "       [[18, 22]],\n",
       "\n",
       "       [[14, 22]],\n",
       "\n",
       "       [[11, 19]],\n",
       "\n",
       "       [[10, 19]],\n",
       "\n",
       "       [[ 9, 20]],\n",
       "\n",
       "       [[10, 21]],\n",
       "\n",
       "       [[10, 22]],\n",
       "\n",
       "       [[12, 24]],\n",
       "\n",
       "       [[13, 24]],\n",
       "\n",
       "       [[14, 25]],\n",
       "\n",
       "       [[18, 25]],\n",
       "\n",
       "       [[23, 20]],\n",
       "\n",
       "       [[23, 16]],\n",
       "\n",
       "       [[24, 15]],\n",
       "\n",
       "       [[24, 14]],\n",
       "\n",
       "       [[23, 13]],\n",
       "\n",
       "       [[23, 10]],\n",
       "\n",
       "       [[22,  9]],\n",
       "\n",
       "       [[22,  8]],\n",
       "\n",
       "       [[20,  6]],\n",
       "\n",
       "       [[19,  6]],\n",
       "\n",
       "       [[18,  5]]], dtype=int32)"
      ]
     },
     "execution_count": 33,
     "metadata": {},
     "output_type": "execute_result"
    }
   ],
   "source": [
    "contours[2]"
   ]
  },
  {
   "cell_type": "code",
   "execution_count": 45,
   "metadata": {},
   "outputs": [
    {
     "data": {
      "text/plain": [
       "255"
      ]
     },
     "execution_count": 45,
     "metadata": {},
     "output_type": "execute_result"
    }
   ],
   "source": [
    "np.max(canvas)"
   ]
  },
  {
   "cell_type": "code",
   "execution_count": 48,
   "metadata": {},
   "outputs": [],
   "source": [
    "canvas = np.zeros(test.shape,dtype=np.uint8)\n",
    "canvas2 = np.zeros(test.shape,dtype=np.uint8)\n",
    "cv2.drawContours(canvas,contours,len(contours) - 1, (1), thickness = cv2.FILLED)\n",
    "canvas2 = cv2.bitwise_and(test,test,mask=canvas)\n",
    "\n",
    "showImage(canvas2)"
   ]
  },
  {
   "cell_type": "code",
   "execution_count": 6,
   "metadata": {},
   "outputs": [
    {
     "name": "stdout",
     "output_type": "stream",
     "text": [
      "[1]\n",
      "[2]\n",
      "-1\n",
      "-1\n",
      "[1]\n",
      "-1\n",
      "[1]\n",
      "-1\n",
      "-1\n",
      "[8]\n",
      "[5]\n",
      "-1\n",
      "-1\n",
      "[1]\n",
      "-1\n",
      "-1\n",
      "[2]\n",
      "-1\n",
      "-1\n",
      "-1\n",
      "[1]\n",
      "-1\n",
      "-1\n",
      "-1\n",
      "-1\n",
      "-1\n",
      "-1\n",
      "-1\n",
      "-1\n",
      "-1\n",
      "-1\n",
      "-1\n",
      "[2]\n",
      "-1\n",
      "-1\n",
      "-1\n",
      "[1]\n",
      "-1\n",
      "-1\n",
      "-1\n",
      "-1\n",
      "[1]\n",
      "[6]\n",
      "-1\n",
      "-1\n",
      "[1]\n",
      "[1]\n",
      "[7]\n",
      "-1\n",
      "-1\n",
      "-1\n",
      "[2]\n",
      "[5]\n",
      "-1\n",
      "-1\n",
      "-1\n",
      "-1\n",
      "[5]\n",
      "-1\n",
      "[1]\n",
      "-1\n",
      "[6]\n",
      "[2]\n",
      "-1\n",
      "[8]\n",
      "[5]\n",
      "-1\n",
      "-1\n",
      "-1\n",
      "[4]\n",
      "-1\n",
      "-1\n",
      "-1\n",
      "-1\n",
      "[1]\n",
      "-1\n",
      "-1\n",
      "-1\n",
      "-1\n",
      "[3]\n",
      "-1\n"
     ]
    }
   ],
   "source": [
    "for box in board.boxes:\n",
    "    digit_recognizer.predict(box)\n",
    "    print(box.value)\n",
    "    \n",
    "\n"
   ]
  },
  {
   "cell_type": "code",
   "execution_count": 14,
   "metadata": {},
   "outputs": [
    {
     "data": {
      "text/plain": [
       "(112, 112)"
      ]
     },
     "execution_count": 14,
     "metadata": {},
     "output_type": "execute_result"
    }
   ],
   "source": [
    "test = board.boxes[0].cv_image.shape"
   ]
  },
  {
   "cell_type": "code",
   "execution_count": 21,
   "metadata": {},
   "outputs": [
    {
     "data": {
      "text/plain": [
       "(1, 32, 32, 1)"
      ]
     },
     "execution_count": 21,
     "metadata": {},
     "output_type": "execute_result"
    }
   ],
   "source": [
    "test.shape"
   ]
  },
  {
   "cell_type": "code",
   "execution_count": 22,
   "metadata": {},
   "outputs": [
    {
     "data": {
      "text/plain": [
       "array([[0., 0., 0., 0., 1., 0., 0., 0., 0.]], dtype=float32)"
      ]
     },
     "execution_count": 22,
     "metadata": {},
     "output_type": "execute_result"
    }
   ],
   "source": [
    "model.predict(test)"
   ]
  },
  {
   "cell_type": "code",
   "execution_count": null,
   "metadata": {},
   "outputs": [],
   "source": [
    "sero = np.ones((32,32))*255\n",
    "test2 = sero-test.reshape((32,32))\n",
    "test3 = cv2.dilate(test.reshape((32,32)), cv2.getStructuringElement(cv2.MORPH_CROSS,(1,1)),iterations=1)\n",
    "ret, test3 = cv2.threshold(test3,200,255,cv2.THRESH_BINARY)"
   ]
  },
  {
   "cell_type": "code",
   "execution_count": 8,
   "metadata": {},
   "outputs": [
    {
     "name": "stdout",
     "output_type": "stream",
     "text": [
      "Model: \"sequential\"\n",
      "_________________________________________________________________\n",
      " Layer (type)                Output Shape              Param #   \n",
      "=================================================================\n",
      " conv2d (Conv2D)             (None, 30, 30, 64)        640       \n",
      "                                                                 \n",
      " max_pooling2d (MaxPooling2D  (None, 15, 15, 64)       0         \n",
      " )                                                               \n",
      "                                                                 \n",
      " conv2d_1 (Conv2D)           (None, 13, 13, 128)       73856     \n",
      "                                                                 \n",
      " max_pooling2d_1 (MaxPooling  (None, 6, 6, 128)        0         \n",
      " 2D)                                                             \n",
      "                                                                 \n",
      " conv2d_2 (Conv2D)           (None, 4, 4, 256)         295168    \n",
      "                                                                 \n",
      " conv2d_3 (Conv2D)           (None, 2, 2, 256)         590080    \n",
      "                                                                 \n",
      " max_pooling2d_2 (MaxPooling  (None, 1, 1, 256)        0         \n",
      " 2D)                                                             \n",
      "                                                                 \n",
      " flatten (Flatten)           (None, 256)               0         \n",
      "                                                                 \n",
      " dense (Dense)               (None, 1024)              263168    \n",
      "                                                                 \n",
      " dense_1 (Dense)             (None, 1024)              1049600   \n",
      "                                                                 \n",
      " dense_2 (Dense)             (None, 9)                 9225      \n",
      "                                                                 \n",
      "=================================================================\n",
      "Total params: 2,281,737\n",
      "Trainable params: 2,281,737\n",
      "Non-trainable params: 0\n",
      "_________________________________________________________________\n"
     ]
    }
   ],
   "source": [
    "model.summary()"
   ]
  },
  {
   "cell_type": "code",
   "execution_count": 10,
   "metadata": {},
   "outputs": [
    {
     "data": {
      "text/plain": [
       "array([[0.0000000e+00, 0.0000000e+00, 0.0000000e+00, 0.0000000e+00,\n",
       "        0.0000000e+00, 6.3313144e-24, 0.0000000e+00, 0.0000000e+00,\n",
       "        1.0000000e+00]], dtype=float32)"
      ]
     },
     "execution_count": 10,
     "metadata": {},
     "output_type": "execute_result"
    }
   ],
   "source": [
    "digit_recognizer.model.predict(test.reshape(1,32,32,1))"
   ]
  },
  {
   "cell_type": "code",
   "execution_count": 11,
   "metadata": {},
   "outputs": [
    {
     "name": "stdout",
     "output_type": "stream",
     "text": [
      "INFO:tensorflow:Assets written to: saved_model/my_model/assets\n"
     ]
    }
   ],
   "source": [
    "!mkdir -p saved_model\n",
    "model.save('saved_model/my_model')"
   ]
  },
  {
   "cell_type": "code",
   "execution_count": 7,
   "metadata": {},
   "outputs": [],
   "source": [
    "test = board.boxes[0].cv_image\n",
    "mask = digit_recognizer.getMask(test)\n",
    "test = cv2.bitwise_and(test, test, mask=mask)\n",
    "test = cv2.resize(test,(32,32),interpolation=cv2.INTER_AREA)\n",
    "showImage(test[12:20,8:24])"
   ]
  },
  {
   "cell_type": "code",
   "execution_count": 20,
   "metadata": {},
   "outputs": [],
   "source": [
    "showImage(test[12:20,8:24])"
   ]
  },
  {
   "cell_type": "code",
   "execution_count": null,
   "metadata": {},
   "outputs": [],
   "source": [
    "test = DataPrep.preprocess(test)"
   ]
  },
  {
   "cell_type": "code",
   "execution_count": null,
   "metadata": {},
   "outputs": [],
   "source": [
    "\n",
    "mask = digit_recognizer.getMask(test)\n",
    "test2 = cv2.bitwise_and(test, test, mask=mask)\n",
    "showImage(test2)"
   ]
  },
  {
   "cell_type": "code",
   "execution_count": null,
   "metadata": {},
   "outputs": [],
   "source": [
    "np.max(test2*255)"
   ]
  },
  {
   "cell_type": "code",
   "execution_count": null,
   "metadata": {},
   "outputs": [],
   "source": [
    "test3 = cv2.bitwise_not(test2*255)\n",
    "showImage(test2*255)"
   ]
  },
  {
   "cell_type": "code",
   "execution_count": null,
   "metadata": {},
   "outputs": [],
   "source": [
    "nine = DataPrep.get_rand_pic_of(9)"
   ]
  },
  {
   "cell_type": "code",
   "execution_count": null,
   "metadata": {},
   "outputs": [],
   "source": [
    "x = DataPrep.ImageRetriever()\n",
    "x.get(nine)\n",
    "y = x.raw_image"
   ]
  },
  {
   "cell_type": "code",
   "execution_count": null,
   "metadata": {},
   "outputs": [],
   "source": [
    "showImage(test2)"
   ]
  },
  {
   "cell_type": "code",
   "execution_count": null,
   "metadata": {},
   "outputs": [],
   "source": [
    "import cv2\n",
    "def showImage(img,title='Resized Window'):\n",
    "\n",
    "    #define the screen resulation\n",
    "    screen_res = 1280, 720\n",
    "    scale_width = screen_res[0] / img.shape[1]\n",
    "    scale_height = screen_res[1] / img.shape[0]\n",
    "    scale = min(scale_width, scale_height)\n",
    "\n",
    "    #resized window width and height\n",
    "    window_width = int(img.shape[1] * scale)\n",
    "    window_height = int(img.shape[0] * scale)\n",
    "\n",
    "    #cv2.WINDOW_NORMAL makes the output window resizealbe\n",
    "    cv2.namedWindow(title, cv2.WINDOW_NORMAL)\n",
    "\n",
    "    #resize the window according to the screen resolution\n",
    "    cv2.resizeWindow(title, window_width, window_height)\n",
    "\n",
    "    cv2.imshow(title, img)\n",
    "    cv2.waitKey(0)\n",
    "    cv2.destroyAllWindows()\n",
    "\n"
   ]
  },
  {
   "cell_type": "code",
   "execution_count": null,
   "metadata": {},
   "outputs": [],
   "source": [
    "test.reshape((32,32))"
   ]
  },
  {
   "cell_type": "code",
   "execution_count": null,
   "metadata": {},
   "outputs": [],
   "source": [
    "test.shape"
   ]
  },
  {
   "cell_type": "code",
   "execution_count": null,
   "metadata": {},
   "outputs": [],
   "source": [
    "import numpy as np\n",
    "test = np.array(test,)"
   ]
  },
  {
   "cell_type": "code",
   "execution_count": null,
   "metadata": {},
   "outputs": [],
   "source": [
    "test.reshape((32,32))"
   ]
  },
  {
   "cell_type": "code",
   "execution_count": null,
   "metadata": {},
   "outputs": [],
   "source": [
    "test.shape"
   ]
  },
  {
   "cell_type": "code",
   "execution_count": null,
   "metadata": {},
   "outputs": [],
   "source": [
    "showImage(test)"
   ]
  },
  {
   "cell_type": "code",
   "execution_count": null,
   "metadata": {},
   "outputs": [],
   "source": []
  }
 ],
 "metadata": {
  "interpreter": {
   "hash": "916dbcbb3f70747c44a77c7bcd40155683ae19c65e1c03b4aa3499c5328201f1"
  },
  "kernelspec": {
   "display_name": "Python 3.8.10 64-bit",
   "language": "python",
   "name": "python3"
  },
  "language_info": {
   "codemirror_mode": {
    "name": "ipython",
    "version": 3
   },
   "file_extension": ".py",
   "mimetype": "text/x-python",
   "name": "python",
   "nbconvert_exporter": "python",
   "pygments_lexer": "ipython3",
   "version": "3.8.10"
  },
  "orig_nbformat": 4
 },
 "nbformat": 4,
 "nbformat_minor": 2
}
